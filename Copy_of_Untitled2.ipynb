{
  "cells": [
    {
      "cell_type": "markdown",
      "metadata": {
        "id": "view-in-github",
        "colab_type": "text"
      },
      "source": [
        "<a href=\"https://colab.research.google.com/github/Megha0222/sum/blob/main/Copy_of_Untitled2.ipynb\" target=\"_parent\"><img src=\"https://colab.research.google.com/assets/colab-badge.svg\" alt=\"Open In Colab\"/></a>"
      ]
    },
    {
      "cell_type": "code",
      "source": [
        "import pandas as pd\n",
        "import numpy as np\n",
        "from sklearn.model_selection import train_test_split\n",
        "from sklearn.metrics import mean_absolute_error\n",
        "from sklearn.ensemble import RandomForestRegressor\n",
        "from sklearn.linear_model import LinearRegression\n",
        "from sklearn.linear_model import Lasso\n",
        "import matplotlib.pyplot as plt\n",
        "\n",
        "from sklearn import metrics"
      ],
      "metadata": {
        "id": "T6IN_mkVIg7T"
      },
      "execution_count": null,
      "outputs": []
    },
    {
      "cell_type": "code",
      "source": [
        "df=pd.read_csv(\"/content/observed.csv\")"
      ],
      "metadata": {
        "id": "T_y2OFqsLZQQ"
      },
      "execution_count": null,
      "outputs": []
    },
    {
      "cell_type": "code",
      "source": [
        "df.head()"
      ],
      "metadata": {
        "colab": {
          "base_uri": "https://localhost:8080/",
          "height": 206
        },
        "id": "WH3BGmfjJB80",
        "outputId": "981f1a5d-66f4-467e-d292-490b1039f5d7"
      },
      "execution_count": null,
      "outputs": [
        {
          "output_type": "execute_result",
          "data": {
            "text/plain": [
              "   week Month  Year  Rainfall\n",
              "0     1   JAN  1993    0.8020\n",
              "1     2   JAN  1993    1.6121\n",
              "2     3   JAN  1993    0.3287\n",
              "3     4   JAN  1993    0.0845\n",
              "4     1   FEB  1993    0.0000"
            ],
            "text/html": [
              "\n",
              "  <div id=\"df-e1021a37-23a8-4cb2-b612-09be4419c883\">\n",
              "    <div class=\"colab-df-container\">\n",
              "      <div>\n",
              "<style scoped>\n",
              "    .dataframe tbody tr th:only-of-type {\n",
              "        vertical-align: middle;\n",
              "    }\n",
              "\n",
              "    .dataframe tbody tr th {\n",
              "        vertical-align: top;\n",
              "    }\n",
              "\n",
              "    .dataframe thead th {\n",
              "        text-align: right;\n",
              "    }\n",
              "</style>\n",
              "<table border=\"1\" class=\"dataframe\">\n",
              "  <thead>\n",
              "    <tr style=\"text-align: right;\">\n",
              "      <th></th>\n",
              "      <th>week</th>\n",
              "      <th>Month</th>\n",
              "      <th>Year</th>\n",
              "      <th>Rainfall</th>\n",
              "    </tr>\n",
              "  </thead>\n",
              "  <tbody>\n",
              "    <tr>\n",
              "      <th>0</th>\n",
              "      <td>1</td>\n",
              "      <td>JAN</td>\n",
              "      <td>1993</td>\n",
              "      <td>0.8020</td>\n",
              "    </tr>\n",
              "    <tr>\n",
              "      <th>1</th>\n",
              "      <td>2</td>\n",
              "      <td>JAN</td>\n",
              "      <td>1993</td>\n",
              "      <td>1.6121</td>\n",
              "    </tr>\n",
              "    <tr>\n",
              "      <th>2</th>\n",
              "      <td>3</td>\n",
              "      <td>JAN</td>\n",
              "      <td>1993</td>\n",
              "      <td>0.3287</td>\n",
              "    </tr>\n",
              "    <tr>\n",
              "      <th>3</th>\n",
              "      <td>4</td>\n",
              "      <td>JAN</td>\n",
              "      <td>1993</td>\n",
              "      <td>0.0845</td>\n",
              "    </tr>\n",
              "    <tr>\n",
              "      <th>4</th>\n",
              "      <td>1</td>\n",
              "      <td>FEB</td>\n",
              "      <td>1993</td>\n",
              "      <td>0.0000</td>\n",
              "    </tr>\n",
              "  </tbody>\n",
              "</table>\n",
              "</div>\n",
              "      <button class=\"colab-df-convert\" onclick=\"convertToInteractive('df-e1021a37-23a8-4cb2-b612-09be4419c883')\"\n",
              "              title=\"Convert this dataframe to an interactive table.\"\n",
              "              style=\"display:none;\">\n",
              "        \n",
              "  <svg xmlns=\"http://www.w3.org/2000/svg\" height=\"24px\"viewBox=\"0 0 24 24\"\n",
              "       width=\"24px\">\n",
              "    <path d=\"M0 0h24v24H0V0z\" fill=\"none\"/>\n",
              "    <path d=\"M18.56 5.44l.94 2.06.94-2.06 2.06-.94-2.06-.94-.94-2.06-.94 2.06-2.06.94zm-11 1L8.5 8.5l.94-2.06 2.06-.94-2.06-.94L8.5 2.5l-.94 2.06-2.06.94zm10 10l.94 2.06.94-2.06 2.06-.94-2.06-.94-.94-2.06-.94 2.06-2.06.94z\"/><path d=\"M17.41 7.96l-1.37-1.37c-.4-.4-.92-.59-1.43-.59-.52 0-1.04.2-1.43.59L10.3 9.45l-7.72 7.72c-.78.78-.78 2.05 0 2.83L4 21.41c.39.39.9.59 1.41.59.51 0 1.02-.2 1.41-.59l7.78-7.78 2.81-2.81c.8-.78.8-2.07 0-2.86zM5.41 20L4 18.59l7.72-7.72 1.47 1.35L5.41 20z\"/>\n",
              "  </svg>\n",
              "      </button>\n",
              "      \n",
              "  <style>\n",
              "    .colab-df-container {\n",
              "      display:flex;\n",
              "      flex-wrap:wrap;\n",
              "      gap: 12px;\n",
              "    }\n",
              "\n",
              "    .colab-df-convert {\n",
              "      background-color: #E8F0FE;\n",
              "      border: none;\n",
              "      border-radius: 50%;\n",
              "      cursor: pointer;\n",
              "      display: none;\n",
              "      fill: #1967D2;\n",
              "      height: 32px;\n",
              "      padding: 0 0 0 0;\n",
              "      width: 32px;\n",
              "    }\n",
              "\n",
              "    .colab-df-convert:hover {\n",
              "      background-color: #E2EBFA;\n",
              "      box-shadow: 0px 1px 2px rgba(60, 64, 67, 0.3), 0px 1px 3px 1px rgba(60, 64, 67, 0.15);\n",
              "      fill: #174EA6;\n",
              "    }\n",
              "\n",
              "    [theme=dark] .colab-df-convert {\n",
              "      background-color: #3B4455;\n",
              "      fill: #D2E3FC;\n",
              "    }\n",
              "\n",
              "    [theme=dark] .colab-df-convert:hover {\n",
              "      background-color: #434B5C;\n",
              "      box-shadow: 0px 1px 3px 1px rgba(0, 0, 0, 0.15);\n",
              "      filter: drop-shadow(0px 1px 2px rgba(0, 0, 0, 0.3));\n",
              "      fill: #FFFFFF;\n",
              "    }\n",
              "  </style>\n",
              "\n",
              "      <script>\n",
              "        const buttonEl =\n",
              "          document.querySelector('#df-e1021a37-23a8-4cb2-b612-09be4419c883 button.colab-df-convert');\n",
              "        buttonEl.style.display =\n",
              "          google.colab.kernel.accessAllowed ? 'block' : 'none';\n",
              "\n",
              "        async function convertToInteractive(key) {\n",
              "          const element = document.querySelector('#df-e1021a37-23a8-4cb2-b612-09be4419c883');\n",
              "          const dataTable =\n",
              "            await google.colab.kernel.invokeFunction('convertToInteractive',\n",
              "                                                     [key], {});\n",
              "          if (!dataTable) return;\n",
              "\n",
              "          const docLinkHtml = 'Like what you see? Visit the ' +\n",
              "            '<a target=\"_blank\" href=https://colab.research.google.com/notebooks/data_table.ipynb>data table notebook</a>'\n",
              "            + ' to learn more about interactive tables.';\n",
              "          element.innerHTML = '';\n",
              "          dataTable['output_type'] = 'display_data';\n",
              "          await google.colab.output.renderOutput(dataTable, element);\n",
              "          const docLink = document.createElement('div');\n",
              "          docLink.innerHTML = docLinkHtml;\n",
              "          element.appendChild(docLink);\n",
              "        }\n",
              "      </script>\n",
              "    </div>\n",
              "  </div>\n",
              "  "
            ]
          },
          "metadata": {},
          "execution_count": 4
        }
      ]
    },
    {
      "cell_type": "code",
      "source": [
        "df.fillna(value = 0,inplace =True)"
      ],
      "metadata": {
        "id": "T__iz9zTLXos"
      },
      "execution_count": null,
      "outputs": []
    },
    {
      "cell_type": "code",
      "source": [
        "plt.figure(figsize=(15,8))\n",
        "df.groupby(['Year']).mean()['Rainfall'].plot(kind=\"line\",color=\"r\",marker=\".\")\n",
        "plt.xlabel(\"YEARS\",size=12)\n",
        "plt.ylabel(\"RAINFALL IN MM\",size=12)\n",
        "plt.grid(axis=\"both\",linestyle=\"-.\")\n",
        "plt.title(\"Rainfall over Years\")\n",
        "plt.show()"
      ],
      "metadata": {
        "colab": {
          "base_uri": "https://localhost:8080/",
          "height": 516
        },
        "id": "qN0gSmLLKzkz",
        "outputId": "eec5ae45-50ee-42bb-cec0-0711a2137ff5"
      },
      "execution_count": null,
      "outputs": [
        {
          "output_type": "display_data",
          "data": {
            "text/plain": [
              "<Figure size 1080x576 with 1 Axes>"
            ],
            "image/png": "[encoded data removed]"
          },
          "metadata": {
            "needs_background": "light"
          }
        }
      ]
    },
    {
      "cell_type": "code",
      "source": [
        "Month_map={'JAN':1,'FEB':2,'MAR' :3,'APR':4,'MAY':5,'JUN':6,'JUL':7,'AUG':8,'SEP':9,\n",
        "   'OCT':10,'NOV':11,'DEC':12}\n",
        "df['Month']=df['Month'].map(Month_map)\n",
        "df.head(12)"
      ],
      "metadata": {
        "colab": {
          "base_uri": "https://localhost:8080/",
          "height": 425
        },
        "id": "OgfOLQ1HMufU",
        "outputId": "4e834895-8c16-441c-d430-d2b4d1cf8b35"
      },
      "execution_count": null,
      "outputs": [
        {
          "output_type": "execute_result",
          "data": {
            "text/plain": [
              "    week  Month  Year  Rainfall\n",
              "0      1      1  1993    0.8020\n",
              "1      2      1  1993    1.6121\n",
              "2      3      1  1993    0.3287\n",
              "3      4      1  1993    0.0845\n",
              "4      1      2  1993    0.0000\n",
              "5      2      2  1993    0.0000\n",
              "6      3      2  1993    0.3025\n",
              "7      4      2  1993    2.3859\n",
              "8      1      3  1993    0.0000\n",
              "9      2      3  1993    0.8799\n",
              "10     3      3  1993    0.1843\n",
              "11     4      3  1993    0.0000"
            ],
            "text/html": [
              "\n",
              "  <div id=\"df-dc2c426a-7ca4-4840-9500-6f4f9ea5cbaf\">\n",
              "    <div class=\"colab-df-container\">\n",
              "      <div>\n",
              "<style scoped>\n",
              "    .dataframe tbody tr th:only-of-type {\n",
              "        vertical-align: middle;\n",
              "    }\n",
              "\n",
              "    .dataframe tbody tr th {\n",
              "        vertical-align: top;\n",
              "    }\n",
              "\n",
              "    .dataframe thead th {\n",
              "        text-align: right;\n",
              "    }\n",
              "</style>\n",
              "<table border=\"1\" class=\"dataframe\">\n",
              "  <thead>\n",
              "    <tr style=\"text-align: right;\">\n",
              "      <th></th>\n",
              "      <th>week</th>\n",
              "      <th>Month</th>\n",
              "      <th>Year</th>\n",
              "      <th>Rainfall</th>\n",
              "    </tr>\n",
              "  </thead>\n",
              "  <tbody>\n",
              "    <tr>\n",
              "      <th>0</th>\n",
              "      <td>1</td>\n",
              "      <td>1</td>\n",
              "      <td>1993</td>\n",
              "      <td>0.8020</td>\n",
              "    </tr>\n",
              "    <tr>\n",
              "      <th>1</th>\n",
              "      <td>2</td>\n",
              "      <td>1</td>\n",
              "      <td>1993</td>\n",
              "      <td>1.6121</td>\n",
              "    </tr>\n",
              "    <tr>\n",
              "      <th>2</th>\n",
              "      <td>3</td>\n",
              "      <td>1</td>\n",
              "      <td>1993</td>\n",
              "      <td>0.3287</td>\n",
              "    </tr>\n",
              "    <tr>\n",
              "      <th>3</th>\n",
              "      <td>4</td>\n",
              "      <td>1</td>\n",
              "      <td>1993</td>\n",
              "      <td>0.0845</td>\n",
              "    </tr>\n",
              "    <tr>\n",
              "      <th>4</th>\n",
              "      <td>1</td>\n",
              "      <td>2</td>\n",
              "      <td>1993</td>\n",
              "      <td>0.0000</td>\n",
              "    </tr>\n",
              "    <tr>\n",
              "      <th>5</th>\n",
              "      <td>2</td>\n",
              "      <td>2</td>\n",
              "      <td>1993</td>\n",
              "      <td>0.0000</td>\n",
              "    </tr>\n",
              "    <tr>\n",
              "      <th>6</th>\n",
              "      <td>3</td>\n",
              "      <td>2</td>\n",
              "      <td>1993</td>\n",
              "      <td>0.3025</td>\n",
              "    </tr>\n",
              "    <tr>\n",
              "      <th>7</th>\n",
              "      <td>4</td>\n",
              "      <td>2</td>\n",
              "      <td>1993</td>\n",
              "      <td>2.3859</td>\n",
              "    </tr>\n",
              "    <tr>\n",
              "      <th>8</th>\n",
              "      <td>1</td>\n",
              "      <td>3</td>\n",
              "      <td>1993</td>\n",
              "      <td>0.0000</td>\n",
              "    </tr>\n",
              "    <tr>\n",
              "      <th>9</th>\n",
              "      <td>2</td>\n",
              "      <td>3</td>\n",
              "      <td>1993</td>\n",
              "      <td>0.8799</td>\n",
              "    </tr>\n",
              "    <tr>\n",
              "      <th>10</th>\n",
              "      <td>3</td>\n",
              "      <td>3</td>\n",
              "      <td>1993</td>\n",
              "      <td>0.1843</td>\n",
              "    </tr>\n",
              "    <tr>\n",
              "      <th>11</th>\n",
              "      <td>4</td>\n",
              "      <td>3</td>\n",
              "      <td>1993</td>\n",
              "      <td>0.0000</td>\n",
              "    </tr>\n",
              "  </tbody>\n",
              "</table>\n",
              "</div>\n",
              "      <button class=\"colab-df-convert\" onclick=\"convertToInteractive('df-dc2c426a-7ca4-4840-9500-6f4f9ea5cbaf')\"\n",
              "              title=\"Convert this dataframe to an interactive table.\"\n",
              "              style=\"display:none;\">\n",
              "        \n",
              "  <svg xmlns=\"http://www.w3.org/2000/svg\" height=\"24px\"viewBox=\"0 0 24 24\"\n",
              "       width=\"24px\">\n",
              "    <path d=\"M0 0h24v24H0V0z\" fill=\"none\"/>\n",
              "    <path d=\"M18.56 5.44l.94 2.06.94-2.06 2.06-.94-2.06-.94-.94-2.06-.94 2.06-2.06.94zm-11 1L8.5 8.5l.94-2.06 2.06-.94-2.06-.94L8.5 2.5l-.94 2.06-2.06.94zm10 10l.94 2.06.94-2.06 2.06-.94-2.06-.94-.94-2.06-.94 2.06-2.06.94z\"/><path d=\"M17.41 7.96l-1.37-1.37c-.4-.4-.92-.59-1.43-.59-.52 0-1.04.2-1.43.59L10.3 9.45l-7.72 7.72c-.78.78-.78 2.05 0 2.83L4 21.41c.39.39.9.59 1.41.59.51 0 1.02-.2 1.41-.59l7.78-7.78 2.81-2.81c.8-.78.8-2.07 0-2.86zM5.41 20L4 18.59l7.72-7.72 1.47 1.35L5.41 20z\"/>\n",
              "  </svg>\n",
              "      </button>\n",
              "      \n",
              "  <style>\n",
              "    .colab-df-container {\n",
              "      display:flex;\n",
              "      flex-wrap:wrap;\n",
              "      gap: 12px;\n",
              "    }\n",
              "\n",
              "    .colab-df-convert {\n",
              "      background-color: #E8F0FE;\n",
              "      border: none;\n",
              "      border-radius: 50%;\n",
              "      cursor: pointer;\n",
              "      display: none;\n",
              "      fill: #1967D2;\n",
              "      height: 32px;\n",
              "      padding: 0 0 0 0;\n",
              "      width: 32px;\n",
              "    }\n",
              "\n",
              "    .colab-df-convert:hover {\n",
              "      background-color: #E2EBFA;\n",
              "      box-shadow: 0px 1px 2px rgba(60, 64, 67, 0.3), 0px 1px 3px 1px rgba(60, 64, 67, 0.15);\n",
              "      fill: #174EA6;\n",
              "    }\n",
              "\n",
              "    [theme=dark] .colab-df-convert {\n",
              "      background-color: #3B4455;\n",
              "      fill: #D2E3FC;\n",
              "    }\n",
              "\n",
              "    [theme=dark] .colab-df-convert:hover {\n",
              "      background-color: #434B5C;\n",
              "      box-shadow: 0px 1px 3px 1px rgba(0, 0, 0, 0.15);\n",
              "      filter: drop-shadow(0px 1px 2px rgba(0, 0, 0, 0.3));\n",
              "      fill: #FFFFFF;\n",
              "    }\n",
              "  </style>\n",
              "\n",
              "      <script>\n",
              "        const buttonEl =\n",
              "          document.querySelector('#df-dc2c426a-7ca4-4840-9500-6f4f9ea5cbaf button.colab-df-convert');\n",
              "        buttonEl.style.display =\n",
              "          google.colab.kernel.accessAllowed ? 'block' : 'none';\n",
              "\n",
              "        async function convertToInteractive(key) {\n",
              "          const element = document.querySelector('#df-dc2c426a-7ca4-4840-9500-6f4f9ea5cbaf');\n",
              "          const dataTable =\n",
              "            await google.colab.kernel.invokeFunction('convertToInteractive',\n",
              "                                                     [key], {});\n",
              "          if (!dataTable) return;\n",
              "\n",
              "          const docLinkHtml = 'Like what you see? Visit the ' +\n",
              "            '<a target=\"_blank\" href=https://colab.research.google.com/notebooks/data_table.ipynb>data table notebook</a>'\n",
              "            + ' to learn more about interactive tables.';\n",
              "          element.innerHTML = '';\n",
              "          dataTable['output_type'] = 'display_data';\n",
              "          await google.colab.output.renderOutput(dataTable, element);\n",
              "          const docLink = document.createElement('div');\n",
              "          docLink.innerHTML = docLinkHtml;\n",
              "          element.appendChild(docLink);\n",
              "        }\n",
              "      </script>\n",
              "    </div>\n",
              "  </div>\n",
              "  "
            ]
          },
          "metadata": {},
          "execution_count": 28
        }
      ]
    },
    {
      "cell_type": "code",
      "source": [
        "X=np.asanyarray(df[['week','Month','Year']]).astype('int')\n",
        "y=np.asanyarray(df['Rainfall']).astype('int')\n",
        "print(X.shape)\n",
        "print(y.shape)"
      ],
      "metadata": {
        "colab": {
          "base_uri": "https://localhost:8080/"
        },
        "id": "1siDlZ3iduGb",
        "outputId": "b315da49-f74f-40c9-a386-60c371436205"
      },
      "execution_count": null,
      "outputs": [
        {
          "output_type": "stream",
          "name": "stdout",
          "text": [
            "(864, 3)\n",
            "(864,)\n"
          ]
        }
      ]
    },
    {
      "cell_type": "code",
      "source": [
        "X_train, X_test, y_train, y_test = train_test_split(X, y, test_size=0.3, random_state=10)"
      ],
      "metadata": {
        "id": "-hlXQ8YCd4V7"
      },
      "execution_count": null,
      "outputs": []
    },
    {
      "cell_type": "code",
      "source": [
        "LR = LinearRegression()\n",
        "LR.fit(X_train,y_train)"
      ],
      "metadata": {
        "colab": {
          "base_uri": "https://localhost:8080/"
        },
        "id": "TykZS-Hjd_iO",
        "outputId": "1c0e625f-2a73-4a19-9c32-884a82304f6e"
      },
      "execution_count": null,
      "outputs": [
        {
          "output_type": "execute_result",
          "data": {
            "text/plain": [
              "LinearRegression()"
            ]
          },
          "metadata": {},
          "execution_count": 31
        }
      ]
    },
    {
      "cell_type": "code",
      "source": [
        "# predicting \n",
        "y_train_predict=LR.predict(X_train)\n",
        "y_test_predict=LR.predict(X_test)"
      ],
      "metadata": {
        "id": "RL-Jp9YMeHVh"
      },
      "execution_count": null,
      "outputs": []
    },
    {
      "cell_type": "code",
      "source": [
        "print(\"-------Test Data--------\")\n",
        "print('MAE:', metrics.mean_absolute_error(y_test, y_test_predict))\n",
        "print('MSE:', metrics.mean_squared_error(y_test, y_test_predict))\n",
        "print('RMSE:', np.sqrt(metrics.mean_squared_error(y_test, y_test_predict)))\n",
        "\n",
        "print(\"\\n-------Train Data--------\")\n",
        "print('MAE:', metrics.mean_absolute_error(y_train,y_train_predict))\n",
        "print('MSE:', metrics.mean_squared_error(y_train, y_train_predict))\n",
        "print('RMSE:', np.sqrt(metrics.mean_squared_error(y_train, y_train_predict)))\n",
        "\n",
        "print(\"\\n-----Training Accuracy-------\")\n",
        "print(round(LR.score(X_train,y_train),3)*100)\n",
        "print(\"-----Testing Accuracy--------\")\n",
        "print(round(LR.score(X_test,y_test),3)*100)"
      ],
      "metadata": {
        "colab": {
          "base_uri": "https://localhost:8080/"
        },
        "id": "3UENEIW-eODq",
        "outputId": "94531980-9bcd-4a57-c21d-4ab1a67caa09"
      },
      "execution_count": null,
      "outputs": [
        {
          "output_type": "stream",
          "name": "stdout",
          "text": [
            "-------Test Data--------\n",
            "MAE: 2.5525475098141635\n",
            "MSE: 18.578843935676336\n",
            "RMSE: 4.310318310249991\n",
            "\n",
            "-------Train Data--------\n",
            "MAE: 2.2077429596666955\n",
            "MSE: 13.299678671905415\n",
            "RMSE: 3.6468724507316423\n",
            "\n",
            "-----Training Accuracy-------\n",
            "2.1\n",
            "-----Testing Accuracy--------\n",
            "-0.3\n"
          ]
        }
      ]
    },
    {
      "cell_type": "code",
      "source": [
        "from sklearn import preprocessing\n",
        "from sklearn import svm\n",
        "\n",
        "svm_regr = svm.SVC(kernel='rbf')\n",
        "svm_regr.fit(X_train, y_train) "
      ],
      "metadata": {
        "colab": {
          "base_uri": "https://localhost:8080/"
        },
        "id": "50Q-41fHfYIB",
        "outputId": "bf4b4331-d2ba-4156-f799-a165f5181969"
      },
      "execution_count": null,
      "outputs": [
        {
          "output_type": "execute_result",
          "data": {
            "text/plain": [
              "SVC()"
            ]
          },
          "metadata": {},
          "execution_count": 34
        }
      ]
    },
    {
      "cell_type": "code",
      "source": [
        "y_test_predict = svm_regr.predict(X_test)\n",
        "y_train_predict = svm_regr.predict(X_train)"
      ],
      "metadata": {
        "id": "4sMRd3EwfqsN"
      },
      "execution_count": null,
      "outputs": []
    },
    {
      "cell_type": "code",
      "source": [
        "from sklearn import metrics\n",
        "print(\"-------Test Data--------\")\n",
        "print('MAE:', metrics.mean_absolute_error(y_test, y_test_predict))\n",
        "print('MSE:', metrics.mean_squared_error(y_test, y_test_predict))\n",
        "print('RMSE:', np.sqrt(metrics.mean_squared_error(y_test, y_test_predict)))\n",
        "\n",
        "print(\"\\n-------Train Data--------\")\n",
        "print('MAE:', metrics.mean_absolute_error(y_train,y_train_predict))\n",
        "print('MSE:', metrics.mean_squared_error(y_train, y_train_predict))\n",
        "print('RMSE:', np.sqrt(metrics.mean_squared_error(y_train, y_train_predict)))\n",
        "\n",
        "\n",
        "print(\"\\n-----Training Accuracy-------\")\n",
        "print(round(svm_regr.score(X_train,y_train),3)*100)\n",
        "print(\"-----Testing Accuracy--------\")\n",
        "print(round(svm_regr.score(X_test,y_test),3)*100)"
      ],
      "metadata": {
        "colab": {
          "base_uri": "https://localhost:8080/"
        },
        "id": "vE6EMhA0fu9n",
        "outputId": "c4e59ef4-3641-40a9-8c3a-f486c611573e"
      },
      "execution_count": null,
      "outputs": [
        {
          "output_type": "stream",
          "name": "stdout",
          "text": [
            "-------Test Data--------\n",
            "MAE: 1.823076923076923\n",
            "MSE: 21.846153846153847\n",
            "RMSE: 4.673986932604096\n",
            "\n",
            "-------Train Data--------\n",
            "MAE: 1.531456953642384\n",
            "MSE: 15.928807947019868\n",
            "RMSE: 3.9910910722532837\n",
            "\n",
            "-----Training Accuracy-------\n",
            "70.7\n",
            "-----Testing Accuracy--------\n",
            "70.0\n"
          ]
        }
      ]
    },
    {
      "cell_type": "code",
      "source": [
        "from sklearn.ensemble import RandomForestRegressor\n",
        "random_forest_model = RandomForestRegressor(max_depth=100, max_features='sqrt', min_samples_leaf=4,\n",
        "                      min_samples_split=10, n_estimators=800)\n",
        "random_forest_model.fit(X_train, y_train)"
      ],
      "metadata": {
        "colab": {
          "base_uri": "https://localhost:8080/"
        },
        "id": "Vsb9TkjYO8-x",
        "outputId": "1996387f-9d3a-41a8-91c1-211a658d4c01"
      },
      "execution_count": null,
      "outputs": [
        {
          "output_type": "execute_result",
          "data": {
            "text/plain": [
              "RandomForestRegressor(max_depth=100, max_features='sqrt', min_samples_leaf=4,\n",
              "                      min_samples_split=10, n_estimators=800)"
            ]
          },
          "metadata": {},
          "execution_count": 38
        }
      ]
    },
    {
      "cell_type": "code",
      "source": [
        "y_train_predict=random_forest_model.predict(X_train)\n",
        "y_test_predict=random_forest_model.predict(X_test)"
      ],
      "metadata": {
        "id": "c9lVBgbMO_su"
      },
      "execution_count": null,
      "outputs": []
    },
    {
      "cell_type": "code",
      "source": [
        "print(\"-------Test Data--------\")\n",
        "print('MAE:', metrics.mean_absolute_error(y_test, y_test_predict))\n",
        "print('MSE:', metrics.mean_squared_error(y_test, y_test_predict))\n",
        "print('RMSE:', np.sqrt(metrics.mean_squared_error(y_test, y_test_predict)))\n",
        "\n",
        "print(\"\\n-------Train Data--------\")\n",
        "print('MAE:', metrics.mean_absolute_error(y_train,y_train_predict))\n",
        "print('MSE:', metrics.mean_squared_error(y_train, y_train_predict))\n",
        "print('RMSE:', np.sqrt(metrics.mean_squared_error(y_train, y_train_predict)))"
      ],
      "metadata": {
        "colab": {
          "base_uri": "https://localhost:8080/"
        },
        "id": "-X7maCcePFH5",
        "outputId": "ee0db552-d42d-429a-ac72-99225f103b88"
      },
      "execution_count": null,
      "outputs": [
        {
          "output_type": "stream",
          "name": "stdout",
          "text": [
            "-------Test Data--------\n",
            "MAE: 2.027177588870204\n",
            "MSE: 15.025331713769502\n",
            "RMSE: 3.8762522768480254\n",
            "\n",
            "-------Train Data--------\n",
            "MAE: 1.4474484361013975\n",
            "MSE: 7.577607558616421\n",
            "RMSE: 2.752745458377222\n"
          ]
        }
      ]
    },
    {
      "cell_type": "code",
      "source": [
        "print(\"-----------Training Accuracy------------\")\n",
        "print(round(random_forest_model.score(X_train,y_train),3)*100)\n",
        "print(\"-----------Testing Accuracy------------\")\n",
        "print(round(random_forest_model.score(X_test,y_test),3)*100)"
      ],
      "metadata": {
        "colab": {
          "base_uri": "https://localhost:8080/"
        },
        "id": "0xe_XRW8PM91",
        "outputId": "2dbb08ba-8e48-4333-fe55-d2a040759b92"
      },
      "execution_count": null,
      "outputs": [
        {
          "output_type": "stream",
          "name": "stdout",
          "text": [
            "-----------Training Accuracy------------\n",
            "44.2\n",
            "-----------Testing Accuracy------------\n",
            "18.9\n"
          ]
        }
      ]
    },
    {
      "cell_type": "code",
      "source": [
        "predicted = random_forest_model.predict([[4,6,2016]]) #forcast for week 4 of june 2016"
      ],
      "metadata": {
        "id": "3XzVv9EPPVPp"
      },
      "execution_count": null,
      "outputs": []
    },
    {
      "cell_type": "code",
      "source": [
        "predicted"
      ],
      "metadata": {
        "colab": {
          "base_uri": "https://localhost:8080/"
        },
        "id": "bKg-_4gDPfkE",
        "outputId": "58c9fc99-5673-4170-d689-2e4998446acd"
      },
      "execution_count": null,
      "outputs": [
        {
          "output_type": "execute_result",
          "data": {
            "text/plain": [
              "array([2.18133016])"
            ]
          },
          "metadata": {},
          "execution_count": 42
        }
      ]
    },
    {
      "cell_type": "code",
      "source": [
        "predicted = random_forest_model.predict([[1,7,2016]]) # forecast for week 1 june 2016"
      ],
      "metadata": {
        "id": "XcmnARkteZLw"
      },
      "execution_count": null,
      "outputs": []
    },
    {
      "cell_type": "code",
      "source": [
        "predicted"
      ],
      "metadata": {
        "id": "6fS4dn0Ve2bE",
        "outputId": "5f5f8c25-7b43-4c67-903d-5755167fab30",
        "colab": {
          "base_uri": "https://localhost:8080/"
        }
      },
      "execution_count": null,
      "outputs": [
        {
          "output_type": "execute_result",
          "data": {
            "text/plain": [
              "array([4.50232144])"
            ]
          },
          "metadata": {},
          "execution_count": 44
        }
      ]
    }
  ],
  "metadata": {
    "accelerator": "GPU",
    "colab": {
      "name": "Copy of Untitled2.ipynb",
      "provenance": [],
      "authorship_tag": "ABX9TyMiq125eqJ5A7TRG5594FMo",
      "include_colab_link": true
    },
    "gpuClass": "standard",
    "kernelspec": {
      "display_name": "Python 3",
      "name": "python3"
    },
    "language_info": {
      "name": "python"
    }
  },
  "nbformat": 4,
  "nbformat_minor": 0
}