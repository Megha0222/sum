{
  "cells": [
    {
      "cell_type": "markdown",
      "metadata": {
        "id": "view-in-github",
        "colab_type": "text"
      },
      "source": [
        "<a href=\"https://colab.research.google.com/github/Megha0222/sum/blob/main/Untitled2.ipynb\" target=\"_parent\"><img src=\"https://colab.research.google.com/assets/colab-badge.svg\" alt=\"Open In Colab\"/></a>"
      ]
    },
    {
      "cell_type": "code",
      "source": [
        "import pandas as pd\n",
        "import numpy as np\n",
        "from sklearn.model_selection import train_test_split\n",
        "from sklearn.metrics import mean_absolute_error\n",
        "from sklearn.ensemble import RandomForestRegressor\n",
        "from sklearn.linear_model import LinearRegression\n",
        "from sklearn.linear_model import Lasso\n",
        "import matplotlib.pyplot as plt\n",
        "\n",
        "from sklearn import metrics"
      ],
      "metadata": {
        "id": "T6IN_mkVIg7T"
      },
      "execution_count": 1,
      "outputs": []
    },
    {
      "cell_type": "code",
      "source": [
        "df=pd.read_csv(\"/content/Book1.csv\")"
      ],
      "metadata": {
        "id": "T_y2OFqsLZQQ"
      },
      "execution_count": 2,
      "outputs": []
    },
    {
      "cell_type": "code",
      "source": [
        "df.head()"
      ],
      "metadata": {
        "colab": {
          "base_uri": "https://localhost:8080/",
          "height": 206
        },
        "id": "WH3BGmfjJB80",
        "outputId": "660ea33d-7d17-4161-fac3-9c721022f2ac"
      },
      "execution_count": 3,
      "outputs": [
        {
          "output_type": "execute_result",
          "data": {
            "text/plain": [
              "   forecast  observed\n",
              "0  2.880659    0.8020\n",
              "1  1.032361    1.6121\n",
              "2  0.000547    0.3287\n",
              "3  0.060489    0.0845\n",
              "4  0.000000    0.0000"
            ],
            "text/html": [
              "\n",
              "  <div id=\"df-0cb32065-1a49-40ed-b8c3-79af655e7ccf\">\n",
              "    <div class=\"colab-df-container\">\n",
              "      <div>\n",
              "<style scoped>\n",
              "    .dataframe tbody tr th:only-of-type {\n",
              "        vertical-align: middle;\n",
              "    }\n",
              "\n",
              "    .dataframe tbody tr th {\n",
              "        vertical-align: top;\n",
              "    }\n",
              "\n",
              "    .dataframe thead th {\n",
              "        text-align: right;\n",
              "    }\n",
              "</style>\n",
              "<table border=\"1\" class=\"dataframe\">\n",
              "  <thead>\n",
              "    <tr style=\"text-align: right;\">\n",
              "      <th></th>\n",
              "      <th>forecast</th>\n",
              "      <th>observed</th>\n",
              "    </tr>\n",
              "  </thead>\n",
              "  <tbody>\n",
              "    <tr>\n",
              "      <th>0</th>\n",
              "      <td>2.880659</td>\n",
              "      <td>0.8020</td>\n",
              "    </tr>\n",
              "    <tr>\n",
              "      <th>1</th>\n",
              "      <td>1.032361</td>\n",
              "      <td>1.6121</td>\n",
              "    </tr>\n",
              "    <tr>\n",
              "      <th>2</th>\n",
              "      <td>0.000547</td>\n",
              "      <td>0.3287</td>\n",
              "    </tr>\n",
              "    <tr>\n",
              "      <th>3</th>\n",
              "      <td>0.060489</td>\n",
              "      <td>0.0845</td>\n",
              "    </tr>\n",
              "    <tr>\n",
              "      <th>4</th>\n",
              "      <td>0.000000</td>\n",
              "      <td>0.0000</td>\n",
              "    </tr>\n",
              "  </tbody>\n",
              "</table>\n",
              "</div>\n",
              "      <button class=\"colab-df-convert\" onclick=\"convertToInteractive('df-0cb32065-1a49-40ed-b8c3-79af655e7ccf')\"\n",
              "              title=\"Convert this dataframe to an interactive table.\"\n",
              "              style=\"display:none;\">\n",
              "        \n",
              "  <svg xmlns=\"http://www.w3.org/2000/svg\" height=\"24px\"viewBox=\"0 0 24 24\"\n",
              "       width=\"24px\">\n",
              "    <path d=\"M0 0h24v24H0V0z\" fill=\"none\"/>\n",
              "    <path d=\"M18.56 5.44l.94 2.06.94-2.06 2.06-.94-2.06-.94-.94-2.06-.94 2.06-2.06.94zm-11 1L8.5 8.5l.94-2.06 2.06-.94-2.06-.94L8.5 2.5l-.94 2.06-2.06.94zm10 10l.94 2.06.94-2.06 2.06-.94-2.06-.94-.94-2.06-.94 2.06-2.06.94z\"/><path d=\"M17.41 7.96l-1.37-1.37c-.4-.4-.92-.59-1.43-.59-.52 0-1.04.2-1.43.59L10.3 9.45l-7.72 7.72c-.78.78-.78 2.05 0 2.83L4 21.41c.39.39.9.59 1.41.59.51 0 1.02-.2 1.41-.59l7.78-7.78 2.81-2.81c.8-.78.8-2.07 0-2.86zM5.41 20L4 18.59l7.72-7.72 1.47 1.35L5.41 20z\"/>\n",
              "  </svg>\n",
              "      </button>\n",
              "      \n",
              "  <style>\n",
              "    .colab-df-container {\n",
              "      display:flex;\n",
              "      flex-wrap:wrap;\n",
              "      gap: 12px;\n",
              "    }\n",
              "\n",
              "    .colab-df-convert {\n",
              "      background-color: #E8F0FE;\n",
              "      border: none;\n",
              "      border-radius: 50%;\n",
              "      cursor: pointer;\n",
              "      display: none;\n",
              "      fill: #1967D2;\n",
              "      height: 32px;\n",
              "      padding: 0 0 0 0;\n",
              "      width: 32px;\n",
              "    }\n",
              "\n",
              "    .colab-df-convert:hover {\n",
              "      background-color: #E2EBFA;\n",
              "      box-shadow: 0px 1px 2px rgba(60, 64, 67, 0.3), 0px 1px 3px 1px rgba(60, 64, 67, 0.15);\n",
              "      fill: #174EA6;\n",
              "    }\n",
              "\n",
              "    [theme=dark] .colab-df-convert {\n",
              "      background-color: #3B4455;\n",
              "      fill: #D2E3FC;\n",
              "    }\n",
              "\n",
              "    [theme=dark] .colab-df-convert:hover {\n",
              "      background-color: #434B5C;\n",
              "      box-shadow: 0px 1px 3px 1px rgba(0, 0, 0, 0.15);\n",
              "      filter: drop-shadow(0px 1px 2px rgba(0, 0, 0, 0.3));\n",
              "      fill: #FFFFFF;\n",
              "    }\n",
              "  </style>\n",
              "\n",
              "      <script>\n",
              "        const buttonEl =\n",
              "          document.querySelector('#df-0cb32065-1a49-40ed-b8c3-79af655e7ccf button.colab-df-convert');\n",
              "        buttonEl.style.display =\n",
              "          google.colab.kernel.accessAllowed ? 'block' : 'none';\n",
              "\n",
              "        async function convertToInteractive(key) {\n",
              "          const element = document.querySelector('#df-0cb32065-1a49-40ed-b8c3-79af655e7ccf');\n",
              "          const dataTable =\n",
              "            await google.colab.kernel.invokeFunction('convertToInteractive',\n",
              "                                                     [key], {});\n",
              "          if (!dataTable) return;\n",
              "\n",
              "          const docLinkHtml = 'Like what you see? Visit the ' +\n",
              "            '<a target=\"_blank\" href=https://colab.research.google.com/notebooks/data_table.ipynb>data table notebook</a>'\n",
              "            + ' to learn more about interactive tables.';\n",
              "          element.innerHTML = '';\n",
              "          dataTable['output_type'] = 'display_data';\n",
              "          await google.colab.output.renderOutput(dataTable, element);\n",
              "          const docLink = document.createElement('div');\n",
              "          docLink.innerHTML = docLinkHtml;\n",
              "          element.appendChild(docLink);\n",
              "        }\n",
              "      </script>\n",
              "    </div>\n",
              "  </div>\n",
              "  "
            ]
          },
          "metadata": {},
          "execution_count": 3
        }
      ]
    },
    {
      "cell_type": "code",
      "source": [
        "df.fillna(value = 0,inplace =True)"
      ],
      "metadata": {
        "id": "T__iz9zTLXos"
      },
      "execution_count": 6,
      "outputs": []
    },
    {
      "cell_type": "code",
      "source": [
        "X=np.asanyarray(df[['observed']]).astype('int')\n",
        "y=np.asanyarray(df['forecast']).astype('int')\n",
        "print(X.shape)\n",
        "print(y.shape)"
      ],
      "metadata": {
        "colab": {
          "base_uri": "https://localhost:8080/"
        },
        "id": "1siDlZ3iduGb",
        "outputId": "c4efd636-a039-4f23-b60a-114405194327"
      },
      "execution_count": 20,
      "outputs": [
        {
          "output_type": "stream",
          "name": "stdout",
          "text": [
            "(864, 1)\n",
            "(864,)\n"
          ]
        }
      ]
    },
    {
      "cell_type": "code",
      "source": [
        "X_train, X_test, y_train, y_test = train_test_split(X, y, test_size=0.3, random_state=10)"
      ],
      "metadata": {
        "id": "-hlXQ8YCd4V7"
      },
      "execution_count": 21,
      "outputs": []
    },
    {
      "cell_type": "code",
      "source": [
        "#LINEAR REGRESSION\n",
        "LR = LinearRegression()\n",
        "LR.fit(X_train,y_train)"
      ],
      "metadata": {
        "colab": {
          "base_uri": "https://localhost:8080/"
        },
        "id": "TykZS-Hjd_iO",
        "outputId": "77ae92a5-d404-4d27-95c6-030a6af5a86e"
      },
      "execution_count": 22,
      "outputs": [
        {
          "output_type": "execute_result",
          "data": {
            "text/plain": [
              "LinearRegression()"
            ]
          },
          "metadata": {},
          "execution_count": 22
        }
      ]
    },
    {
      "cell_type": "code",
      "source": [
        "LR.score(X, y)   #COEFFICIENT\n",
        "LR.coef_"
      ],
      "metadata": {
        "colab": {
          "base_uri": "https://localhost:8080/"
        },
        "id": "5gV9sKjt7siL",
        "outputId": "6173c635-9744-46a3-b64b-6d78efac2602"
      },
      "execution_count": 35,
      "outputs": [
        {
          "output_type": "execute_result",
          "data": {
            "text/plain": [
              "array([0.68520333])"
            ]
          },
          "metadata": {},
          "execution_count": 35
        }
      ]
    },
    {
      "cell_type": "code",
      "source": [
        "# predicting \n",
        "y_train_predict=LR.predict(X_train)\n",
        "y_test_predict=LR.predict(X_test)"
      ],
      "metadata": {
        "id": "RL-Jp9YMeHVh"
      },
      "execution_count": 23,
      "outputs": []
    },
    {
      "cell_type": "code",
      "source": [
        "print(\"-------Test Data--------\")\n",
        "print('MAE:', metrics.mean_absolute_error(y_test, y_test_predict))\n",
        "print('MSE:', metrics.mean_squared_error(y_test, y_test_predict))\n",
        "print('RMSE:', np.sqrt(metrics.mean_squared_error(y_test, y_test_predict)))\n",
        "\n",
        "print(\"\\n-------Train Data--------\")\n",
        "print('MAE:', metrics.mean_absolute_error(y_train,y_train_predict))\n",
        "print('MSE:', metrics.mean_squared_error(y_train, y_train_predict))\n",
        "print('RMSE:', np.sqrt(metrics.mean_squared_error(y_train, y_train_predict)))\n",
        "\n",
        "print(\"\\n-----Training Accuracy-------\")\n",
        "print(round(LR.score(X_train,y_train),3)*100)\n",
        "print(\"-----Testing Accuracy--------\")\n",
        "print(round(LR.score(X_test,y_test),3)*100)"
      ],
      "metadata": {
        "colab": {
          "base_uri": "https://localhost:8080/"
        },
        "id": "3UENEIW-eODq",
        "outputId": "f3b58b0b-2832-403d-e1b3-69fd5df8e93b"
      },
      "execution_count": 24,
      "outputs": [
        {
          "output_type": "stream",
          "name": "stdout",
          "text": [
            "-------Test Data--------\n",
            "MAE: 1.866479074274064\n",
            "MSE: 16.933514922294812\n",
            "RMSE: 4.115035227345547\n",
            "\n",
            "-------Train Data--------\n",
            "MAE: 1.6764388058123219\n",
            "MSE: 10.006154210353895\n",
            "RMSE: 3.1632505765989984\n",
            "\n",
            "-----Training Accuracy-------\n",
            "38.9\n",
            "-----Testing Accuracy--------\n",
            "39.0\n"
          ]
        }
      ]
    },
    {
      "cell_type": "code",
      "source": [
        "predicted = LR.predict([[20.000]])    "
      ],
      "metadata": {
        "id": "B89LTj7c8DK_"
      },
      "execution_count": 36,
      "outputs": []
    },
    {
      "cell_type": "code",
      "source": [
        "predicted"
      ],
      "metadata": {
        "colab": {
          "base_uri": "https://localhost:8080/"
        },
        "id": "6ezshS4Z8LY1",
        "outputId": "f88f1057-6554-469e-f30b-d7e1d9d68b43"
      },
      "execution_count": 37,
      "outputs": [
        {
          "output_type": "execute_result",
          "data": {
            "text/plain": [
              "array([14.43450849])"
            ]
          },
          "metadata": {},
          "execution_count": 37
        }
      ]
    },
    {
      "cell_type": "code",
      "source": [
        "#SUPPORT VECTOR MACHINE\n",
        "from sklearn import preprocessing\n",
        "from sklearn import svm\n",
        "\n",
        "svm_regr = svm.SVC(kernel='rbf')\n",
        "svm_regr.fit(X_train, y_train) "
      ],
      "metadata": {
        "colab": {
          "base_uri": "https://localhost:8080/"
        },
        "id": "50Q-41fHfYIB",
        "outputId": "0bbd2048-3b1b-4166-a617-3bf981eea606"
      },
      "execution_count": 25,
      "outputs": [
        {
          "output_type": "execute_result",
          "data": {
            "text/plain": [
              "SVC()"
            ]
          },
          "metadata": {},
          "execution_count": 25
        }
      ]
    },
    {
      "cell_type": "code",
      "source": [
        "y_test_predict = svm_regr.predict(X_test)\n",
        "y_train_predict = svm_regr.predict(X_train)"
      ],
      "metadata": {
        "id": "4sMRd3EwfqsN"
      },
      "execution_count": 26,
      "outputs": []
    },
    {
      "cell_type": "code",
      "source": [
        "from sklearn import metrics\n",
        "print(\"-------Test Data--------\")\n",
        "print('MAE:', metrics.mean_absolute_error(y_test, y_test_predict))\n",
        "print('MSE:', metrics.mean_squared_error(y_test, y_test_predict))\n",
        "print('RMSE:', np.sqrt(metrics.mean_squared_error(y_test, y_test_predict)))\n",
        "\n",
        "print(\"\\n-------Train Data--------\")\n",
        "print('MAE:', metrics.mean_absolute_error(y_train,y_train_predict))\n",
        "print('MSE:', metrics.mean_squared_error(y_train, y_train_predict))\n",
        "print('RMSE:', np.sqrt(metrics.mean_squared_error(y_train, y_train_predict)))\n",
        "\n",
        "\n",
        "print(\"\\n-----Training Accuracy-------\")\n",
        "print(round(svm_regr.score(X_train,y_train),3)*100)\n",
        "print(\"-----Testing Accuracy--------\")\n",
        "print(round(svm_regr.score(X_test,y_test),3)*100)"
      ],
      "metadata": {
        "colab": {
          "base_uri": "https://localhost:8080/"
        },
        "id": "vE6EMhA0fu9n",
        "outputId": "6b073856-f08f-472e-8ae2-66e349c2f7e4"
      },
      "execution_count": 27,
      "outputs": [
        {
          "output_type": "stream",
          "name": "stdout",
          "text": [
            "-------Test Data--------\n",
            "MAE: 1.7423076923076923\n",
            "MSE: 23.896153846153847\n",
            "RMSE: 4.88836924200227\n",
            "\n",
            "-------Train Data--------\n",
            "MAE: 1.4155629139072847\n",
            "MSE: 12.193708609271523\n",
            "RMSE: 3.491949113213353\n",
            "\n",
            "-----Training Accuracy-------\n",
            "66.4\n",
            "-----Testing Accuracy--------\n",
            "67.30000000000001\n"
          ]
        }
      ]
    },
    {
      "cell_type": "code",
      "source": [
        "#RANDOM FOREST\n",
        "from sklearn.ensemble import RandomForestRegressor\n",
        "random_forest_model = RandomForestRegressor(max_depth=100, max_features='sqrt', min_samples_leaf=4,\n",
        "                      min_samples_split=10, n_estimators=800)\n",
        "random_forest_model.fit(X_train, y_train)"
      ],
      "metadata": {
        "colab": {
          "base_uri": "https://localhost:8080/"
        },
        "id": "Vsb9TkjYO8-x",
        "outputId": "deae4552-7779-4dd0-d88c-d8cf5abd1d5b"
      },
      "execution_count": 28,
      "outputs": [
        {
          "output_type": "execute_result",
          "data": {
            "text/plain": [
              "RandomForestRegressor(max_depth=100, max_features='sqrt', min_samples_leaf=4,\n",
              "                      min_samples_split=10, n_estimators=800)"
            ]
          },
          "metadata": {},
          "execution_count": 28
        }
      ]
    },
    {
      "cell_type": "code",
      "source": [
        "y_train_predict=random_forest_model.predict(X_train)\n",
        "y_test_predict=random_forest_model.predict(X_test)"
      ],
      "metadata": {
        "id": "c9lVBgbMO_su"
      },
      "execution_count": 29,
      "outputs": []
    },
    {
      "cell_type": "code",
      "source": [
        "print(\"-------Test Data--------\")\n",
        "print('MAE:', metrics.mean_absolute_error(y_test, y_test_predict))\n",
        "print('MSE:', metrics.mean_squared_error(y_test, y_test_predict))\n",
        "print('RMSE:', np.sqrt(metrics.mean_squared_error(y_test, y_test_predict)))\n",
        "\n",
        "print(\"\\n-------Train Data--------\")\n",
        "print('MAE:', metrics.mean_absolute_error(y_train,y_train_predict))\n",
        "print('MSE:', metrics.mean_squared_error(y_train, y_train_predict))\n",
        "print('RMSE:', np.sqrt(metrics.mean_squared_error(y_train, y_train_predict)))"
      ],
      "metadata": {
        "colab": {
          "base_uri": "https://localhost:8080/"
        },
        "id": "-X7maCcePFH5",
        "outputId": "cb6b439d-a5b3-4203-e915-2443d5ae2fdc"
      },
      "execution_count": 30,
      "outputs": [
        {
          "output_type": "stream",
          "name": "stdout",
          "text": [
            "-------Test Data--------\n",
            "MAE: 1.8176137564028338\n",
            "MSE: 18.497546304983928\n",
            "RMSE: 4.300877387810995\n",
            "\n",
            "-------Train Data--------\n",
            "MAE: 1.4841915946399844\n",
            "MSE: 8.44960122315686\n",
            "RMSE: 2.906819778238214\n"
          ]
        }
      ]
    },
    {
      "cell_type": "code",
      "source": [
        "print(\"-----------Training Accuracy------------\")\n",
        "print(round(random_forest_model.score(X_train,y_train),3)*100)\n",
        "print(\"-----------Testing Accuracy------------\")\n",
        "print(round(random_forest_model.score(X_test,y_test),3)*100)"
      ],
      "metadata": {
        "colab": {
          "base_uri": "https://localhost:8080/"
        },
        "id": "0xe_XRW8PM91",
        "outputId": "be353704-8bce-4f64-c996-e2950d23f651"
      },
      "execution_count": 31,
      "outputs": [
        {
          "output_type": "stream",
          "name": "stdout",
          "text": [
            "-----------Training Accuracy------------\n",
            "48.4\n",
            "-----------Testing Accuracy------------\n",
            "33.300000000000004\n"
          ]
        }
      ]
    },
    {
      "cell_type": "code",
      "source": [
        "predicted = random_forest_model.predict([[20.000]])"
      ],
      "metadata": {
        "id": "3XzVv9EPPVPp"
      },
      "execution_count": 32,
      "outputs": []
    },
    {
      "cell_type": "code",
      "source": [
        "predicted"
      ],
      "metadata": {
        "colab": {
          "base_uri": "https://localhost:8080/"
        },
        "id": "bKg-_4gDPfkE",
        "outputId": "e0fb9374-0e7b-446d-bf69-09b135835f41"
      },
      "execution_count": 33,
      "outputs": [
        {
          "output_type": "execute_result",
          "data": {
            "text/plain": [
              "array([10.1495208])"
            ]
          },
          "metadata": {},
          "execution_count": 33
        }
      ]
    }
  ],
  "metadata": {
    "accelerator": "GPU",
    "colab": {
      "name": "Untitled2.ipynb",
      "provenance": [],
      "authorship_tag": "ABX9TyP2BOYOU71HFnjQKqsHT5oB",
      "include_colab_link": true
    },
    "gpuClass": "standard",
    "kernelspec": {
      "display_name": "Python 3",
      "name": "python3"
    },
    "language_info": {
      "name": "python"
    }
  },
  "nbformat": 4,
  "nbformat_minor": 0
}